{
 "cells": [
  {
   "cell_type": "code",
   "execution_count": 1,
   "metadata": {},
   "outputs": [],
   "source": [
    "# Импортируем основные модули pytorch\n",
    "import torch\n",
    "import torch.nn as nn\n",
    "from torch.utils.data import DataLoader\n",
    "\n",
    "# Импортируем модули, связанные с компьютерным зрением\n",
    "from torchvision import datasets\n",
    "from torchvision.transforms import ToTensor\n",
    "\n",
    "# Импортируем вспомогательные модули\n",
    "from sklearn.metrics import accuracy_score\n",
    "import matplotlib.pyplot as plt"
   ]
  },
  {
   "cell_type": "code",
   "execution_count": 2,
   "metadata": {},
   "outputs": [],
   "source": [
    "# В данной лабораторной работе вам необходимо обучить две сети с архитектурой,\n",
    "# которую вам необходимо разработать самостоятельно.\n",
    "# В этой части предлагается реализовать полносвязную сеть без использования сверточных слоев.\n",
    "# Поэкспериментируйте с использованием слоев пакетной нормализации и дропаута.\n",
    "# Сравните точность на тестовой выборке с аналогичными результатами одногруппников.\n",
    "class FCNet(nn.Module):\n",
    "\n",
    "    def __init__(self):\n",
    "        super().__init__()\n",
    "\n",
    "        # ВАШ КОД ЗДЕСЬ\n",
    "        self.fc1 = nn.Linear(3*32*32, 500)\n",
    "        self.fc2 = nn.Linear(500, 200)\n",
    "        self.fc3 = nn.Linear(200, 80)\n",
    "        self.fc4 = nn.Linear(80, 10)\n",
    "        self.relu = nn.ReLU()\n",
    "        self.dropout = nn.Dropout()\n",
    "        self.bn = nn.BatchNorm1d(500)\n",
    "        # ===============\n",
    "\n",
    "    def forward(self, x):\n",
    "        # ВАШ КОД ЗДЕСЬ\n",
    "        x = torch.flatten(x, 1)\n",
    "        x = self.relu(self.fc1(x))\n",
    "        x = self.bn(x)\n",
    "        x = self.relu(self.fc2(x))\n",
    "        x = self.dropout(x)\n",
    "        x = self.relu(self.fc3(x))\n",
    "        x = self.fc4(x)\n",
    "        return x\n",
    "        # ===============\n"
   ]
  },
  {
   "cell_type": "code",
   "execution_count": 3,
   "metadata": {},
   "outputs": [
    {
     "name": "stdout",
     "output_type": "stream",
     "text": [
      "Files already downloaded and verified\n",
      "Files already downloaded and verified\n"
     ]
    }
   ],
   "source": [
    "# Задаем количество эпох (проходов по всей обучающей выборке) и размер пакета, можно варьировать\n",
    "EPOCHS = 20\n",
    "BATCH_SIZE = 256\n",
    "\n",
    "# Загружаем данные из набора CIFAR10\n",
    "train_data = datasets.CIFAR10(root='./data/train', train=True, download=True, transform=ToTensor())\n",
    "test_data = datasets.CIFAR10(root='./data/test', train=False, download=True, transform=ToTensor())\n",
    "\n",
    "# DataLoader позволяет разбить выборку на пакеты заданного размера.\n",
    "# Параметр shuffle отвечает за перемешивание данных в пакете\n",
    "train_loader = DataLoader(train_data, batch_size=BATCH_SIZE, shuffle=True)\n",
    "\n",
    "# Если графический ускоритель поддерживает обучение на нем, будем использовать его,\n",
    "# иначе обучать на процессоре.\n",
    "device = 'cuda' if torch.cuda.is_available() else 'cpu'"
   ]
  },
  {
   "cell_type": "code",
   "execution_count": 4,
   "metadata": {},
   "outputs": [],
   "source": [
    "# Готовимся к обучению\n",
    "model = FCNet().to(device)  # создаем модель\n",
    "optimizer = torch.optim.AdamW(model.parameters())  # оптимизатор, нужно выбрать и настроить\n",
    "loss_function = nn.CrossEntropyLoss()  # функция потерь, нужно выбрать\n",
    "loss_history = list()  # список для хранения истории изменения функции стоимости\n"
   ]
  },
  {
   "cell_type": "code",
   "execution_count": 7,
   "metadata": {},
   "outputs": [
    {
     "name": "stdout",
     "output_type": "stream",
     "text": [
      "Эпоха 1 завершилась с функцией стоимости на последнем пакете = 1.7944204807281494\n",
      "Эпоха 2 завершилась с функцией стоимости на последнем пакете = 1.536004662513733\n",
      "Эпоха 3 завершилась с функцией стоимости на последнем пакете = 1.7640702724456787\n",
      "Эпоха 4 завершилась с функцией стоимости на последнем пакете = 1.5146276950836182\n",
      "Эпоха 5 завершилась с функцией стоимости на последнем пакете = 1.345325231552124\n",
      "Эпоха 6 завершилась с функцией стоимости на последнем пакете = 1.4745738506317139\n",
      "Эпоха 7 завершилась с функцией стоимости на последнем пакете = 1.5188930034637451\n",
      "Эпоха 8 завершилась с функцией стоимости на последнем пакете = 1.437323808670044\n",
      "Эпоха 9 завершилась с функцией стоимости на последнем пакете = 1.3509858846664429\n",
      "Эпоха 10 завершилась с функцией стоимости на последнем пакете = 1.2984721660614014\n",
      "Эпоха 11 завершилась с функцией стоимости на последнем пакете = 1.3819575309753418\n",
      "Эпоха 12 завершилась с функцией стоимости на последнем пакете = 1.3010964393615723\n",
      "Эпоха 13 завершилась с функцией стоимости на последнем пакете = 1.2873635292053223\n",
      "Эпоха 14 завершилась с функцией стоимости на последнем пакете = 1.3234117031097412\n",
      "Эпоха 15 завершилась с функцией стоимости на последнем пакете = 1.2613065242767334\n",
      "Эпоха 16 завершилась с функцией стоимости на последнем пакете = 1.3786723613739014\n",
      "Эпоха 17 завершилась с функцией стоимости на последнем пакете = 1.486873745918274\n",
      "Эпоха 18 завершилась с функцией стоимости на последнем пакете = 1.2236549854278564\n",
      "Эпоха 19 завершилась с функцией стоимости на последнем пакете = 1.2331351041793823\n",
      "Эпоха 20 завершилась с функцией стоимости на последнем пакете = 1.0167429447174072\n"
     ]
    }
   ],
   "source": [
    "# Начинаем обучение\n",
    "for epoch in range(EPOCHS):\n",
    "    for i, (batch, labels) in enumerate(train_loader):  # разбиваем выборку на пакеты\n",
    "        # Нужно реализовать один шаг градиентного спуска\n",
    "        loss = torch.tensor(0, dtype=torch.float32)  # значение функции стоимости на пакете, нужно рассчитать\n",
    "        # ВАШ КОД ЗДЕСЬ\n",
    "        optimizer.zero_grad()\n",
    "        \n",
    "        outputs = model(batch.cuda())\n",
    "        loss = loss_function(outputs.cuda(), labels.cuda())\n",
    "        loss.backward()\n",
    "        optimizer.step()\n",
    "        # ===============\n",
    "        loss_history.append(loss.log().item())  # добавляется логарифм стоимости для большей наглядности\n",
    "    print(f'Эпоха {epoch + 1} завершилась с функцией стоимости на последнем пакете = {loss.item()}')\n"
   ]
  },
  {
   "cell_type": "code",
   "execution_count": 8,
   "metadata": {},
   "outputs": [
    {
     "data": {
      "image/png": "[encoded data removed]",
      "text/plain": [
       "<Figure size 432x288 with 1 Axes>"
      ]
     },
     "metadata": {
      "needs_background": "light"
     },
     "output_type": "display_data"
    }
   ],
   "source": [
    "# Выводим график функции стоимости\n",
    "plt.title('Зависимость функции стоимости от номера шага градиентного спуска')\n",
    "plt.xlabel('Номер шага')\n",
    "plt.ylabel('Функция стоимости')\n",
    "plt.plot(loss_history)\n",
    "plt.show()"
   ]
  },
  {
   "cell_type": "code",
   "execution_count": 10,
   "metadata": {},
   "outputs": [
    {
     "name": "stdout",
     "output_type": "stream",
     "text": [
      "Точность (accuracy) на обучающей выборке: 0.57626\n",
      "Точность (accuracy) на тестовой выборке: 0.5149\n"
     ]
    }
   ],
   "source": [
    "# Отключаем расчет вычислительного графа для экономии времени и памяти: нам не нужно считать градиенты при тестировании модели\n",
    "with torch.no_grad():\n",
    "    # Оцениваем качество модели\n",
    "    train_data_loader = DataLoader(train_data, batch_size=len(train_data))\n",
    "    train_features, train_targets = next(iter(train_data_loader))\n",
    "\n",
    "    train_features = train_features.to(device)\n",
    "    train_model_predictions = torch.argmax(model(train_features), dim=1)\n",
    "    print('Точность (accuracy) на обучающей выборке:', accuracy_score(train_data.targets, train_model_predictions.cpu()))\n",
    "\n",
    "    test_data_loader = DataLoader(test_data, batch_size=len(test_data))\n",
    "    test_features, test_targets = next(iter(test_data_loader))\n",
    "\n",
    "    test_features = test_features.to(device)\n",
    "    test_model_predictions = torch.argmax(model(test_features), dim=1)\n",
    "    print('Точность (accuracy) на тестовой выборке:', accuracy_score(test_data.targets, test_model_predictions.cpu()))\n"
   ]
  }
 ],
 "metadata": {
  "interpreter": {
   "hash": "aee8b7b246df8f9039afb4144a1f6fd8d2ca17a180786b69acc140d282b71a49"
  },
  "kernelspec": {
   "display_name": "Python 3.10.0 64-bit",
   "language": "python",
   "name": "python3"
  },
  "language_info": {
   "codemirror_mode": {
    "name": "ipython",
    "version": 3
   },
   "file_extension": ".py",
   "mimetype": "text/x-python",
   "name": "python",
   "nbconvert_exporter": "python",
   "pygments_lexer": "ipython3",
   "version": "3.8.5"
  },
  "orig_nbformat": 4
 },
 "nbformat": 4,
 "nbformat_minor": 2
}
