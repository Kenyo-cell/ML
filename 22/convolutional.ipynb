{
 "cells": [
  {
   "cell_type": "code",
   "execution_count": 1,
   "metadata": {},
   "outputs": [],
   "source": [
    "import torch\n",
    "import torch.nn as nn\n",
    "import torch.nn.functional as func\n",
    "from torch.utils.data import DataLoader\n",
    "\n",
    "# Импортируем модули, связанные с компьютерным зрением\n",
    "from torchvision import datasets\n",
    "from torchvision.transforms import ToTensor\n",
    "\n",
    "# Импортируем вспомогательные модули\n",
    "from sklearn.metrics import accuracy_score\n",
    "import matplotlib.pyplot as plt"
   ]
  },
  {
   "cell_type": "code",
   "execution_count": 2,
   "metadata": {},
   "outputs": [],
   "source": [
    "# В этой части предлагается реализовать сверточную сеть.\n",
    "# Поэкспериментируйте с использованием слоев пакетной нормализации и дропаута.\n",
    "# Сравните точность на тестовой выборке с аналогичными результатами одногруппников.\n",
    "class ConvNet(nn.Module):\n",
    "\n",
    "    def __init__(self):\n",
    "        super().__init__()\n",
    "\n",
    "        # ВАШ КОД ЗДЕСЬ\n",
    "        self.conv1 = nn.Conv2d(3, 16, 3, 1, padding=1)\n",
    "        self.conv2 = nn.Conv2d(16, 32, 3, 1, padding=1)\n",
    "        self.conv3 = nn.Conv2d(32, 64, 3, 1, padding=1)\n",
    "        self.fc1 = nn.Linear(in_features=64*4*4, out_features=500)\n",
    "        self.fc2 = nn.Linear(in_features=500, out_features=10)\n",
    "        # ===============\n",
    "\n",
    "    def forward(self, x):\n",
    "        # ВАШ КОД ЗДЕСЬ\n",
    "        x = func.relu(self.conv1(x))\n",
    "        x = func.max_pool2d(x, 2, 2)\n",
    "        \n",
    "        x = func.relu(self.conv2(x))\n",
    "        x = func.max_pool2d(x, 2, 2)\n",
    "        \n",
    "        x = func.relu(self.conv3(x))\n",
    "        x = func.max_pool2d(x, 2, 2)\n",
    "\n",
    "        x = func.relu(self.fc1(x.view(x.size(0), -1)))\n",
    "        x = self.fc2(func.dropout(x))\n",
    "        \n",
    "        # ===========\n",
    "        return x\n"
   ]
  },
  {
   "cell_type": "code",
   "execution_count": 3,
   "metadata": {},
   "outputs": [
    {
     "name": "stdout",
     "output_type": "stream",
     "text": [
      "Files already downloaded and verified\n",
      "Files already downloaded and verified\n"
     ]
    }
   ],
   "source": [
    "# Задаем количество эпох (проходов по всей обучающей выборке) и размер пакета, можно варьировать\n",
    "EPOCHS = 25\n",
    "BATCH_SIZE = 256\n",
    "\n",
    "# Загружаем данные из набора CIFAR10\n",
    "train_data = datasets.CIFAR10(root='./data/train', train=True, download=True, transform=ToTensor())\n",
    "test_data = datasets.CIFAR10(root='./data/test', train=False, download=True, transform=ToTensor())\n",
    "\n",
    "# DataLoader позволяет разбить выборку на пакеты заданного размера.\n",
    "# Параметр shuffle отвечает за перемешивание данных в пакете\n",
    "train_loader = DataLoader(train_data, batch_size=BATCH_SIZE, shuffle=True)\n",
    "\n",
    "# Если графический ускоритель поддерживает обучение на нем, будем использовать его,\n",
    "# иначе обучать на процессоре.\n",
    "device = 'cuda' if torch.cuda.is_available() else 'cpu'\n"
   ]
  },
  {
   "cell_type": "code",
   "execution_count": 4,
   "metadata": {},
   "outputs": [
    {
     "name": "stdout",
     "output_type": "stream",
     "text": [
      "cuda\n"
     ]
    }
   ],
   "source": [
    "print(device)"
   ]
  },
  {
   "cell_type": "code",
   "execution_count": 5,
   "metadata": {},
   "outputs": [],
   "source": [
    "# Готовимся к обучению\n",
    "model = ConvNet().to(device)  # создаем модель\n",
    "optimizer = torch.optim.AdamW(model.parameters())  # оптимизатор, нужно выбрать и настроить\n",
    "loss_function = nn.CrossEntropyLoss()  # функция потерь, нужно выбрать\n",
    "loss_history = list()  # список для хранения истории изменения функции стоимости\n"
   ]
  },
  {
   "cell_type": "code",
   "execution_count": 7,
   "metadata": {},
   "outputs": [
    {
     "name": "stdout",
     "output_type": "stream",
     "text": [
      "Эпоха 1 завершилась с функцией стоимости на последнем пакете = 1.6253938674926758\n",
      "Эпоха 2 завершилась с функцией стоимости на последнем пакете = 1.2569833993911743\n",
      "Эпоха 3 завершилась с функцией стоимости на последнем пакете = 1.287004828453064\n",
      "Эпоха 4 завершилась с функцией стоимости на последнем пакете = 1.1659328937530518\n",
      "Эпоха 5 завершилась с функцией стоимости на последнем пакете = 1.4122366905212402\n",
      "Эпоха 6 завершилась с функцией стоимости на последнем пакете = 0.901894748210907\n",
      "Эпоха 7 завершилась с функцией стоимости на последнем пакете = 1.1461331844329834\n",
      "Эпоха 8 завершилась с функцией стоимости на последнем пакете = 1.0067405700683594\n",
      "Эпоха 9 завершилась с функцией стоимости на последнем пакете = 1.0413826704025269\n",
      "Эпоха 10 завершилась с функцией стоимости на последнем пакете = 0.8235341310501099\n",
      "Эпоха 11 завершилась с функцией стоимости на последнем пакете = 0.8410789370536804\n",
      "Эпоха 12 завершилась с функцией стоимости на последнем пакете = 0.8637111783027649\n",
      "Эпоха 13 завершилась с функцией стоимости на последнем пакете = 0.9403190612792969\n",
      "Эпоха 14 завершилась с функцией стоимости на последнем пакете = 0.5836364030838013\n",
      "Эпоха 15 завершилась с функцией стоимости на последнем пакете = 0.5705445408821106\n",
      "Эпоха 16 завершилась с функцией стоимости на последнем пакете = 0.6419164538383484\n",
      "Эпоха 17 завершилась с функцией стоимости на последнем пакете = 0.8464745283126831\n",
      "Эпоха 18 завершилась с функцией стоимости на последнем пакете = 0.5061219930648804\n",
      "Эпоха 19 завершилась с функцией стоимости на последнем пакете = 0.5879810452461243\n",
      "Эпоха 20 завершилась с функцией стоимости на последнем пакете = 0.7430340647697449\n",
      "Эпоха 21 завершилась с функцией стоимости на последнем пакете = 0.5763800144195557\n",
      "Эпоха 22 завершилась с функцией стоимости на последнем пакете = 0.8079565763473511\n",
      "Эпоха 23 завершилась с функцией стоимости на последнем пакете = 0.38329756259918213\n",
      "Эпоха 24 завершилась с функцией стоимости на последнем пакете = 0.7113425135612488\n",
      "Эпоха 25 завершилась с функцией стоимости на последнем пакете = 0.5154074430465698\n"
     ]
    }
   ],
   "source": [
    "# Начинаем обучение\n",
    "for epoch in range(EPOCHS):\n",
    "    for i, (batch, labels) in enumerate(train_loader):  # разбиваем выборку на пакеты\n",
    "        # Нужно реализовать один шаг градиентного спуска\n",
    "        loss = torch.tensor(0, dtype=torch.float32)  # значение функции стоимости на пакете, нужно рассчитать\n",
    "        # ВАШ КОД ЗДЕСЬ\n",
    "        optimizer.zero_grad()\n",
    "        output = model(batch.cuda())\n",
    "        loss = loss_function(output.cuda(), labels.cuda())\n",
    "        loss.backward()\n",
    "        optimizer.step()\n",
    "        # ===============\n",
    "        loss_history.append(loss.log().item())  # добавляется логарифм стоимости для большей наглядности\n",
    "    print(f'Эпоха {epoch + 1} завершилась с функцией стоимости на последнем пакете = {loss.item()}')\n"
   ]
  },
  {
   "cell_type": "code",
   "execution_count": 18,
   "metadata": {},
   "outputs": [
    {
     "data": {
      "image/png": "[encoded data removed]",
      "text/plain": [
       "<Figure size 432x288 with 1 Axes>"
      ]
     },
     "metadata": {
      "needs_background": "light"
     },
     "output_type": "display_data"
    }
   ],
   "source": [
    "# Выводим график функции стоимости\n",
    "plt.title('Зависимость функции стоимости от номера шага градиентного спуска')\n",
    "plt.xlabel('Номер шага')\n",
    "plt.ylabel('Функция стоимости')\n",
    "plt.plot(loss_history)\n",
    "plt.show()"
   ]
  },
  {
   "cell_type": "code",
   "execution_count": 19,
   "metadata": {},
   "outputs": [
    {
     "name": "stdout",
     "output_type": "stream",
     "text": [
      "Точность (accuracy) на обучающей выборке: 0.82242\n",
      "Точность (accuracy) на тестовой выборке: 0.7014\n"
     ]
    }
   ],
   "source": [
    "# Отключаем расчет вычислительного графа для экономии времени и памяти: нам не нужно считать градиенты при тестировании модели\n",
    "with torch.no_grad():\n",
    "    # Оцениваем качество модели\n",
    "    train_data_loader = DataLoader(train_data, batch_size=len(train_data))\n",
    "    train_features, train_targets = next(iter(train_data_loader))\n",
    "\n",
    "    train_features = train_features.to(device)\n",
    "    train_model_predictions = torch.argmax(model(train_features), dim=1)\n",
    "    print('Точность (accuracy) на обучающей выборке:', accuracy_score(train_data.targets, train_model_predictions))\n",
    "\n",
    "    test_data_loader = DataLoader(test_data, batch_size=len(test_data))\n",
    "    test_features, test_targets = next(iter(test_data_loader))\n",
    "\n",
    "    test_features = test_features.to(device)\n",
    "    test_model_predictions = torch.argmax(model(test_features), dim=1)\n",
    "    print('Точность (accuracy) на тестовой выборке:', accuracy_score(test_data.targets, test_model_predictions))\n"
   ]
  },
  {
   "cell_type": "markdown",
   "metadata": {},
   "source": [
    "# Sequential"
   ]
  },
  {
   "cell_type": "code",
   "execution_count": 8,
   "metadata": {},
   "outputs": [],
   "source": [
    "class ConvNet(nn.Module):\n",
    "\n",
    "    def __init__(self):\n",
    "        super().__init__()\n",
    "\n",
    "        # ВАШ КОД ЗДЕСЬ\n",
    "        self.network = nn.Sequential(\n",
    "            nn.Conv2d(3, 32, kernel_size = 3, padding = 1),\n",
    "            nn.ReLU(),\n",
    "            nn.Conv2d(32, 64, kernel_size = 3, stride = 1, padding = 1),\n",
    "            nn.ReLU(),\n",
    "            nn.MaxPool2d(2, 2),\n",
    "        \n",
    "            nn.Conv2d(64, 128, kernel_size = 3, stride = 1, padding = 1),\n",
    "            nn.ReLU(),\n",
    "            nn.Conv2d(128, 128, kernel_size = 3, stride = 1, padding = 1),\n",
    "            nn.ReLU(),\n",
    "            nn.MaxPool2d(2, 2),\n",
    "        \n",
    "            nn.Conv2d(128, 256, kernel_size = 3, stride = 1, padding = 1),\n",
    "            nn.ReLU(),\n",
    "            nn.Conv2d(256, 256, kernel_size = 3, stride = 1, padding = 1),\n",
    "            nn.ReLU(),\n",
    "            nn.MaxPool2d(2, 2),\n",
    "        \n",
    "            nn.Flatten(),\n",
    "            nn.Linear(256*4*4, 1024),\n",
    "            nn.ReLU(),\n",
    "            nn.Linear(1024, 512),\n",
    "            nn.ReLU(),\n",
    "            nn.Linear(512, 10)\n",
    "            )\n",
    "\n",
    "        # ===============\n",
    "\n",
    "    def forward(self, x):\n",
    "        # ВАШ КОД ЗДЕСЬ\n",
    "        return self.network(x)\n",
    "        # ==============="
   ]
  },
  {
   "cell_type": "code",
   "execution_count": 9,
   "metadata": {},
   "outputs": [
    {
     "name": "stdout",
     "output_type": "stream",
     "text": [
      "Files already downloaded and verified\n",
      "Files already downloaded and verified\n"
     ]
    }
   ],
   "source": [
    "# Задаем количество эпох (проходов по всей обучающей выборке) и размер пакета, можно варьировать\n",
    "EPOCHS = 15\n",
    "BATCH_SIZE = 256\n",
    "\n",
    "# Загружаем данные из набора CIFAR10\n",
    "train_data = datasets.CIFAR10(root='./data/train', train=True, download=True, transform=ToTensor())\n",
    "test_data = datasets.CIFAR10(root='./data/test', train=False, download=True, transform=ToTensor())\n",
    "\n",
    "# DataLoader позволяет разбить выборку на пакеты заданного размера.\n",
    "# Параметр shuffle отвечает за перемешивание данных в пакете\n",
    "train_loader = DataLoader(train_data, batch_size=BATCH_SIZE, shuffle=True)\n",
    "\n",
    "# Если графический ускоритель поддерживает обучение на нем, будем использовать его,\n",
    "# иначе обучать на процессоре.\n",
    "device = 'cuda' if torch.cuda.is_available() else 'cpu'"
   ]
  },
  {
   "cell_type": "code",
   "execution_count": 10,
   "metadata": {},
   "outputs": [
    {
     "name": "stdout",
     "output_type": "stream",
     "text": [
      "cuda\n"
     ]
    }
   ],
   "source": [
    "print(device)"
   ]
  },
  {
   "cell_type": "code",
   "execution_count": 11,
   "metadata": {},
   "outputs": [],
   "source": [
    "# Готовимся к обучению\n",
    "model = ConvNet().to(device)  # создаем модель\n",
    "optimizer = torch.optim.AdamW(model.parameters())  # оптимизатор, нужно выбрать и настроить\n",
    "loss_function = nn.CrossEntropyLoss()  # функция потерь, нужно выбрать\n",
    "loss_history = list()  # список для хранения истории изменения функции стоимости"
   ]
  },
  {
   "cell_type": "code",
   "execution_count": 13,
   "metadata": {},
   "outputs": [
    {
     "name": "stdout",
     "output_type": "stream",
     "text": [
      "Эпоха 1 завершилась с функцией стоимости на последнем пакете = 1.527031660079956\n",
      "Эпоха 2 завершилась с функцией стоимости на последнем пакете = 1.2769553661346436\n",
      "Эпоха 3 завершилась с функцией стоимости на последнем пакете = 1.1519381999969482\n",
      "Эпоха 4 завершилась с функцией стоимости на последнем пакете = 1.101296067237854\n",
      "Эпоха 5 завершилась с функцией стоимости на последнем пакете = 0.6308630704879761\n",
      "Эпоха 6 завершилась с функцией стоимости на последнем пакете = 0.6147817969322205\n",
      "Эпоха 7 завершилась с функцией стоимости на последнем пакете = 0.49812427163124084\n",
      "Эпоха 8 завершилась с функцией стоимости на последнем пакете = 0.489685595035553\n",
      "Эпоха 9 завершилась с функцией стоимости на последнем пакете = 0.20051893591880798\n",
      "Эпоха 10 завершилась с функцией стоимости на последнем пакете = 0.17229965329170227\n",
      "Эпоха 11 завершилась с функцией стоимости на последнем пакете = 0.17327003180980682\n",
      "Эпоха 12 завершилась с функцией стоимости на последнем пакете = 0.11188532412052155\n",
      "Эпоха 13 завершилась с функцией стоимости на последнем пакете = 0.1287996917963028\n",
      "Эпоха 14 завершилась с функцией стоимости на последнем пакете = 0.04159043729305267\n",
      "Эпоха 15 завершилась с функцией стоимости на последнем пакете = 0.051167212426662445\n"
     ]
    }
   ],
   "source": [
    "# Начинаем обучение\n",
    "for epoch in range(EPOCHS):\n",
    "    for i, (batch, labels) in enumerate(train_loader):  # разбиваем выборку на пакеты\n",
    "        # Нужно реализовать один шаг градиентного спуска\n",
    "        loss = torch.tensor(0, dtype=torch.float32)  # значение функции стоимости на пакете, нужно рассчитать\n",
    "        optimizer.zero_grad()\n",
    "        # ВАШ КОД ЗДЕСЬ\n",
    "        output = model(batch.cuda())\n",
    "        loss = loss_function(output.cuda(), labels.cuda())\n",
    "        loss.backward()\n",
    "        optimizer.step()\n",
    "        # ===============\n",
    "        loss_history.append(loss.log().item())  # добавляется логарифм стоимости для большей наглядности\n",
    "    print(f'Эпоха {epoch + 1} завершилась с функцией стоимости на последнем пакете = {loss.item()}')"
   ]
  },
  {
   "cell_type": "code",
   "execution_count": 14,
   "metadata": {},
   "outputs": [
    {
     "data": {
      "image/png": "[encoded data removed]",
      "text/plain": [
       "<Figure size 432x288 with 1 Axes>"
      ]
     },
     "metadata": {
      "needs_background": "light"
     },
     "output_type": "display_data"
    }
   ],
   "source": [
    "# Выводим график функции стоимости\n",
    "plt.title('Зависимость функции стоимости от номера шага градиентного спуска')\n",
    "plt.xlabel('Номер шага')\n",
    "plt.ylabel('Функция стоимости')\n",
    "plt.plot(loss_history)\n",
    "plt.show()"
   ]
  },
  {
   "cell_type": "code",
   "execution_count": 78,
   "metadata": {},
   "outputs": [
    {
     "data": {
      "text/plain": [
       "57"
      ]
     },
     "execution_count": 78,
     "metadata": {},
     "output_type": "execute_result"
    }
   ],
   "source": [
    "torch.cuda.empty_cache()\n",
    "import gc\n",
    "gc.collect()"
   ]
  },
  {
   "cell_type": "code",
   "execution_count": 74,
   "metadata": {},
   "outputs": [],
   "source": [
    "BATCH_DELIMETER = 16"
   ]
  },
  {
   "cell_type": "code",
   "execution_count": 79,
   "metadata": {},
   "outputs": [
    {
     "name": "stdout",
     "output_type": "stream",
     "text": [
      "Точность (accuracy) на обучающей выборке: 0.96822\n",
      "Точность (accuracy) на тестовой выборке: 0.7704\n"
     ]
    }
   ],
   "source": [
    "# Отключаем расчет вычислительного графа для экономии времени и памяти: нам не нужно считать градиенты при тестировании модели\n",
    "with torch.no_grad():\n",
    "    # Оцениваем качество модели\n",
    "    train_data_loader = DataLoader(train_data, batch_size=len(train_data) // BATCH_DELIMETER)\n",
    "    train_data_iterator = iter(train_data_loader)\n",
    "    train_features, train_targets = next(train_data_iterator)\n",
    "    train_features = train_features.to(device)\n",
    "    train_model_predictions = torch.argmax(model(train_features), dim=1)\n",
    "    for i in range(BATCH_DELIMETER - 1):\n",
    "        train_features, train_targets = next(train_data_iterator)\n",
    "        train_features = train_features.to(device)\n",
    "\n",
    "        train_model_predictions = torch.cat((train_model_predictions, torch.argmax(model(train_features), dim=1)), 0)\n",
    "    \n",
    "    print('Точность (accuracy) на обучающей выборке:', accuracy_score(train_data.targets, train_model_predictions.cpu()))\n",
    "\n",
    "    torch.cuda.empty_cache()\n",
    "\n",
    "    test_data_loader = DataLoader(test_data, batch_size=len(test_data) // BATCH_DELIMETER)\n",
    "    test_data_iterator = iter(test_data_loader)\n",
    "    test_features, test_targets = next(test_data_iterator)\n",
    "    test_features = test_features.to(device)\n",
    "    test_model_predictions = torch.argmax(model(test_features), dim=1)\n",
    "\n",
    "    for i in range(BATCH_DELIMETER - 1):\n",
    "        test_features, test_targets = next(test_data_iterator)\n",
    "        test_features = test_features.to(device)\n",
    "\n",
    "        test_model_predictions = torch.cat((test_model_predictions, torch.argmax(model(test_features), dim=1)), 0)\n",
    "\n",
    "    print('Точность (accuracy) на тестовой выборке:', accuracy_score(test_data.targets, test_model_predictions.cpu()))"
   ]
  }
 ],
 "metadata": {
  "interpreter": {
   "hash": "c11202d2846b22eec7deaf37ea813ba92a5f75b5344a4d16688175855af7948e"
  },
  "kernelspec": {
   "display_name": "Python 3.9.7 ('base')",
   "language": "python",
   "name": "python3"
  },
  "language_info": {
   "codemirror_mode": {
    "name": "ipython",
    "version": 3
   },
   "file_extension": ".py",
   "mimetype": "text/x-python",
   "name": "python",
   "nbconvert_exporter": "python",
   "pygments_lexer": "ipython3",
   "version": "3.8.5"
  },
  "orig_nbformat": 4
 },
 "nbformat": 4,
 "nbformat_minor": 2
}
